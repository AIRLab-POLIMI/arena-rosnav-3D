{
 "cells": [
  {
   "cell_type": "code",
   "execution_count": 1,
   "metadata": {},
   "outputs": [],
   "source": [
    "import pandas as pd\n",
    "import numpy as np\n"
   ]
  },
  {
   "cell_type": "code",
   "execution_count": 2,
   "metadata": {},
   "outputs": [],
   "source": [
    "df = pd.read_csv('rosnav_turtlebot3_burger--map5_obs05--22-02-14_00-09-38.csv')\n",
    "laser = df.laser_scan\n"
   ]
  },
  {
   "cell_type": "code",
   "execution_count": 15,
   "metadata": {},
   "outputs": [
    {
     "name": "stdout",
     "output_type": "stream",
     "text": [
      "3.4168172616033416 \t 528 \t -5.103149397828801\n",
      "3.3973046941298204 \t 529 \t -5.113088644094196\n",
      "3.435207546612455 \t 1050 \t -5.084779585261494\n",
      "3.4199745365884624 \t 1051 \t -5.099613216808079\n",
      "3.3907829085810457 \t 1618 \t -5.129204114650931\n",
      "3.3661746024228867 \t 1619 \t -5.143668412738816\n",
      "3.563165310441067 \t 2184 \t -4.956779515331935\n",
      "3.5295208690027104 \t 2185 \t -4.9755952732445765\n"
     ]
    }
   ],
   "source": [
    "# df['dis'] = (df.robot_pos_x[:-1] - df.robot_pos_x[1:])**2\n",
    "list = []\n",
    "j = 0\n",
    "for e, i in zip(df.robot_pos_x, df.robot_pos_x[2:]):\n",
    "    list.append(abs(e-i))\n",
    "    if abs(e-i)>1:\n",
    "        print(f'{abs(e-i)} \\t {j} \\t {e}')\n",
    "    j+=1"
   ]
  },
  {
   "cell_type": "code",
   "execution_count": 14,
   "metadata": {},
   "outputs": [
    {
     "name": "stdout",
     "output_type": "stream",
     "text": [
      "15.786256596902698 \t 528 \t 6.59626161435137\n",
      "15.827658520299654 \t 529 \t 6.637863076827796\n",
      "15.779884904759736 \t 1050 \t 6.589884750721785\n",
      "15.827403988922221 \t 1051 \t 6.637444095082951\n",
      "15.827025614212133 \t 1618 \t 6.637025584271716\n",
      "15.87626822430536 \t 1619 \t 6.686312708770875\n",
      "15.924882220527332 \t 2184 \t 6.734882017105004\n",
      "15.963849508520013 \t 2185 \t 6.77413194673059\n"
     ]
    }
   ],
   "source": [
    "# df['dis'] = (df.robot_pos_x[:-1] - df.robot_pos_x[1:])**2\n",
    "list = []\n",
    "j = 0\n",
    "for e, i in zip(df.robot_pos_y, df.robot_pos_y[2:]):\n",
    "    list.append(abs(e-i))\n",
    "    if abs(e-i)>1:\n",
    "        print(f'{abs(e-i)} \\t {j} \\t {e}')\n",
    "    j+=1"
   ]
  },
  {
   "cell_type": "code",
   "execution_count": 8,
   "metadata": {},
   "outputs": [
    {
     "name": "stdout",
     "output_type": "stream",
     "text": [
      "[3.4168172616033416, 3.3973046941298204, 3.435207546612455, 3.4199745365884624, 3.3907829085810457, 3.3661746024228867, 3.563165310441067, 3.5295208690027104]\n"
     ]
    }
   ],
   "source": [
    "l = []\n",
    "for e in list:\n",
    "    if e > 1:\n",
    "        l.append(e)\n",
    "print(l)"
   ]
  }
 ],
 "metadata": {
  "interpreter": {
   "hash": "519085a33ac7c3fb4bca79863b78a5230665425559ed264a60d70802866cd827"
  },
  "kernelspec": {
   "display_name": "Python 3.8.10 ('rosnav')",
   "language": "python",
   "name": "python3"
  },
  "language_info": {
   "codemirror_mode": {
    "name": "ipython",
    "version": 3
   },
   "file_extension": ".py",
   "mimetype": "text/x-python",
   "name": "python",
   "nbconvert_exporter": "python",
   "pygments_lexer": "ipython3",
   "version": "3.8.10"
  },
  "orig_nbformat": 4
 },
 "nbformat": 4,
 "nbformat_minor": 2
}
