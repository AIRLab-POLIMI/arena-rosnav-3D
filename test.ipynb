{
 "cells": [
  {
   "cell_type": "code",
   "execution_count": 3,
   "metadata": {},
   "outputs": [],
   "source": [
    "import yaml\n",
    "import sys\n",
    "import os\n",
    "import time\n",
    "import rospkg\n",
    "import subprocess\n",
    "import rospy\n",
    "import rostopic\n",
    "import rospy.core\n",
    "import numpy as np\n",
    "from argparse import ArgumentParser\n",
    "from std_msgs.msg import Bool"
   ]
  },
  {
   "cell_type": "code",
   "execution_count": null,
   "metadata": {},
   "outputs": [],
   "source": [
    "launch_command = f\"roslaunch arena_bringup start_arena_gazebo.launch\"\n",
    "subprocess.Popen(launch_command, shell=True)"
   ]
  },
  {
   "cell_type": "code",
   "execution_count": null,
   "metadata": {},
   "outputs": [],
   "source": [
    "while True:\n",
    "    try:\n",
    "        rospy.init_node('listener', anonymous=True)\n",
    "        rospy.wait_for_message('clock', Bool)\n",
    "        break\n",
    "    except:\n",
    "        pass"
   ]
  },
  {
   "cell_type": "code",
   "execution_count": 1,
   "metadata": {},
   "outputs": [
    {
     "ename": "NameError",
     "evalue": "name 'subprocess' is not defined",
     "output_type": "error",
     "traceback": [
      "\u001b[0;31m---------------------------------------------------------------------------\u001b[0m",
      "\u001b[0;31mNameError\u001b[0m                                 Traceback (most recent call last)",
      "Input \u001b[0;32mIn [1]\u001b[0m, in \u001b[0;36m<module>\u001b[0;34m\u001b[0m\n\u001b[1;32m      1\u001b[0m \u001b[38;5;66;03m# terminate rosnodes\u001b[39;00m\n\u001b[0;32m----> 2\u001b[0m \u001b[43msubprocess\u001b[49m\u001b[38;5;241m.\u001b[39mPopen(\u001b[38;5;124m\"\u001b[39m\u001b[38;5;124mrosnode kill --all\u001b[39m\u001b[38;5;124m\"\u001b[39m, shell\u001b[38;5;241m=\u001b[39m\u001b[38;5;28;01mTrue\u001b[39;00m)\n\u001b[1;32m      4\u001b[0m \u001b[38;5;66;03m# terminate gazebo\u001b[39;00m\n\u001b[1;32m      5\u001b[0m subprocess\u001b[38;5;241m.\u001b[39mPopen(\n\u001b[1;32m      6\u001b[0m     \u001b[38;5;124m\"\u001b[39m\u001b[38;5;124mkillall -9 gazebo & killall -9 gzserver  & killall -9 gzclient\u001b[39m\u001b[38;5;124m\"\u001b[39m,\n\u001b[1;32m      7\u001b[0m     shell\u001b[38;5;241m=\u001b[39m\u001b[38;5;28;01mTrue\u001b[39;00m,\n\u001b[1;32m      8\u001b[0m )\n",
      "\u001b[0;31mNameError\u001b[0m: name 'subprocess' is not defined"
     ]
    }
   ],
   "source": [
    "# terminate rosnodes\n",
    "subprocess.Popen(\"rosnode kill --all\", shell=True)\n",
    "\n",
    "# terminate gazebo\n",
    "subprocess.Popen(\n",
    "    \"killall -9 gazebo & killall -9 gzserver  & killall -9 gzclient\",\n",
    "    shell=True,\n",
    ")\n",
    "\n",
    "while not rospy.is_shutdown():\n",
    "    time.sleep(1)"
   ]
  },
  {
   "cell_type": "code",
   "execution_count": null,
   "metadata": {},
   "outputs": [],
   "source": []
  },
  {
   "cell_type": "code",
   "execution_count": null,
   "metadata": {},
   "outputs": [],
   "source": []
  },
  {
   "cell_type": "code",
   "execution_count": null,
   "metadata": {},
   "outputs": [],
   "source": []
  },
  {
   "cell_type": "code",
   "execution_count": null,
   "metadata": {},
   "outputs": [],
   "source": []
  }
 ],
 "metadata": {
  "interpreter": {
   "hash": "519085a33ac7c3fb4bca79863b78a5230665425559ed264a60d70802866cd827"
  },
  "kernelspec": {
   "display_name": "Python 3.8.10 64-bit ('rosnav': virtualenv)",
   "language": "python",
   "name": "python3"
  },
  "language_info": {
   "codemirror_mode": {
    "name": "ipython",
    "version": 3
   },
   "file_extension": ".py",
   "mimetype": "text/x-python",
   "name": "python",
   "nbconvert_exporter": "python",
   "pygments_lexer": "ipython3",
   "version": "3.8.10"
  },
  "orig_nbformat": 4
 },
 "nbformat": 4,
 "nbformat_minor": 2
}
